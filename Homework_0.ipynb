{
 "cells": [
  {
   "cell_type": "markdown",
   "metadata": {},
   "source": [
    "# <font style=\"color:black\">Lecture 1: Homework Problem</font>\n",
    "\n",
    "In this first homework set, I want you to make sure that you can use GitHub, MS Code, and OpenCV.\n",
    "You should (already to be able to read this document), clone the Github classroom assignment and edit it in VS Code.  In this python notebook, do the following:\n",
    "\n",
    "* Load an (Grayscale) image  (‘Data/Apollo_11_Launch.jpg’)\n",
    "* View image\n",
    "* Crop image\n",
    "* Edit brightness of image\n",
    "* Rotate image\n",
    "* Save modified image"
   ]
  },
  {
   "cell_type": "code",
   "execution_count": 3,
   "metadata": {},
   "outputs": [],
   "source": [
    "import cv2\n",
    "import numpy as np\n",
    "\n",
    "# load image\n",
    "img = cv2.imread(\"Data/Apollo_11_Launch.jpg\", cv2.IMREAD_GRAYSCALE)\n",
    "\n",
    "# show image\n",
    "cv2.imshow(\"original\", img)\n",
    "cv2.waitKey(0)\n",
    "\n",
    "# crop image\n",
    "h, w = img.shape\n",
    "start_row, start_col = h // 4, w // 4\n",
    "cropped_img = img[start_row:start_row+400, start_col:start_col+400]\n",
    "\n",
    "cv2.imshow(\"cropped\",cropped_img)\n",
    "cv2.waitKey(0)\n",
    "\n",
    "# edit brightness\n",
    "brightness = 50\n",
    "bright_img = cv2.add(cropped_img, 50)\n",
    "\n",
    "cv2.imshow(\"brightened\",bright_img)\n",
    "cv2.waitKey(0)\n",
    "\n",
    "# rotate image\n",
    "rotated_img = cv2.rotate(bright_img, cv2.ROTATE_90_CLOCKWISE)\n",
    "\n",
    "cv2.imshow(\"rotated\",rotated_img)\n",
    "cv2.waitKey(0)\n",
    "\n",
    "# save image\n",
    "cv2.imwrite(\"Data/Apollo_11_Launch_Modified.jpg\", rotated_img)\n",
    "\n",
    "cv2.imshow(\"modified\", rotated_img)\n",
    "cv2.waitKey(0)\n",
    "\n",
    "cv2.destroyAllWindows()"
   ]
  }
 ],
 "metadata": {
  "kernelspec": {
   "display_name": "ECE1390",
   "language": "python",
   "name": "python3"
  },
  "language_info": {
   "codemirror_mode": {
    "name": "ipython",
    "version": 3
   },
   "file_extension": ".py",
   "mimetype": "text/x-python",
   "name": "python",
   "nbconvert_exporter": "python",
   "pygments_lexer": "ipython3",
   "version": "3.12.11"
  }
 },
 "nbformat": 4,
 "nbformat_minor": 2
}
